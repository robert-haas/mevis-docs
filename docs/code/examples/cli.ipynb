{
 "cells": [
  {
   "cell_type": "markdown",
   "id": "9f1bad2d",
   "metadata": {},
   "source": [
    "# Command line interface\n",
    "\n",
    "This Jupyter notebook gives an overview of the command line interface (CLI) that comes with the Python package [mevis](https://pypi.org/project/mevis) after installation with pip. The .ipynb file can be found [here](https://github.com/robert-haas/mevis/tree/master/examples)."
   ]
  },
  {
   "cell_type": "markdown",
   "id": "e0437c08",
   "metadata": {},
   "source": [
    "## Show the help text"
   ]
  },
  {
   "cell_type": "code",
   "execution_count": 1,
   "id": "7073a631",
   "metadata": {
    "execution": {
     "iopub.execute_input": "2021-12-09T22:44:33.306014Z",
     "iopub.status.busy": "2021-12-09T22:44:33.304710Z",
     "iopub.status.idle": "2021-12-09T22:44:33.705304Z",
     "shell.execute_reply": "2021-12-09T22:44:33.705732Z"
    }
   },
   "outputs": [
    {
     "name": "stdout",
     "output_type": "stream",
     "text": [
      "usage: mevis [-h] -i input_filepath [-o output_filepath] [-f] [-v]\r\n",
      "             [-b backend] [-l layout_method] [-cd capture_delay]\r\n",
      "             [-ft filter_target] [-fc filter_context] [-fm filter_mode] [-gua]\r\n",
      "             [-gud] [-nl node_label] [-nc node_color] [-no node_opacity]\r\n",
      "             [-ns node_size] [-nsh node_shape] [-nbc node_border_color]\r\n",
      "             [-nbs node_border_size] [-nlc node_label_color]\r\n",
      "             [-nls node_label_size] [-nh node_hover] [-ncl node_click]\r\n",
      "             [-ni node_image] [-np node_properties] [-el edge_label]\r\n",
      "             [-ec edge_color] [-eo edge_opacity] [-es edge_size]\r\n",
      "             [-elc edge_label_color] [-els edge_label_size] [-eh edge_hover]\r\n",
      "             [-ecl edge_click] [--kwargs [KWARGS [KWARGS ...]]]\r\n",
      "\r\n",
      "Visualize an OpenCog Atomspace as graph with two kinds of vertices.\r\n",
      "\r\n",
      "optional arguments:\r\n",
      "  -h, --help            show this help message and exit\r\n",
      "  -i input_filepath     path of input file (.scm) containing an Atomspace\r\n",
      "  -o output_filepath    path of output file, with following cases\r\n",
      "                        - none     create plot and display it in webbrowser\r\n",
      "                        - .html    create plot and export it to a HTML file\r\n",
      "                        - .jpg     create plot and export it to a JPG file\r\n",
      "                        - .png     create plot and export it to a PNG file\r\n",
      "                        - .svg     create plot and export it to a SVG file\r\n",
      "                                   works only with backend d3\r\n",
      "                        - .gml     create graph and export it to GML file\r\n",
      "                        - .gml.gz  same but file is compressed with gzip\r\n",
      "                        - .gml.bz2 same but file is compressed with bzip2\r\n",
      "  -f, --force           overwrite output_filepath if it already exists\r\n",
      "  -v, --verbose         print messages about intermediary results\r\n",
      "  -b backend            backend library for graph visualization\r\n",
      "                        \"d3\" = d3.js\r\n",
      "                        \"vis\" = vis-network.js\r\n",
      "                        \"three\" = 3d-force-directed.js using three.js\r\n",
      "  -l layout_method      layout method to calculate node coordinates\r\n",
      "                        - \"dot\"\r\n",
      "                        - \"neato\"\r\n",
      "                        - \"twopi\"\r\n",
      "                        - \"circo\"\r\n",
      "                        - \"fdp\"\r\n",
      "                        - \"sfdp\"\r\n",
      "                        - \"bipartite\"\r\n",
      "                        - \"circular\"\r\n",
      "                        - \"kamada_kawai\"\r\n",
      "                        - \"planar\"\r\n",
      "                        - \"random\"\r\n",
      "                        - \"shell\"\r\n",
      "                        - \"spring\"\r\n",
      "                        - \"spectral\"\r\n",
      "                        - \"spiral\"\r\n",
      "  -cd capture_delay     delay in seconds when capturing a static image\r\n",
      "                        for JPG/PNG/SVG export. Default: 3.5\r\n",
      "  -ft filter_target     filter target to select Atoms\r\n",
      "  -fc filter_context    filter context to expaned selected atoms to\r\n",
      "                        - \"atom\" = selected Atoms\r\n",
      "                        - \"in\" = selection + incoming neighbors\r\n",
      "                        - \"out\" = selection + outgoing neighbors\r\n",
      "                        - \"both\" = selection + incoming and outgoing\r\n",
      "                          neighbors\r\n",
      "                        - \"in-tree\" = selection + repeated incoming\r\n",
      "                          neighbors\r\n",
      "                        - \"out-tree\" = selection + repeated outgoing\r\n",
      "                          neighbors\r\n",
      "                        - \"('in', n)\" = selection + incoming neighbors\r\n",
      "                          within distance n\r\n",
      "                        - \"('out', n)\" = selection + outgoing neighbors\r\n",
      "                          within distance n\r\n",
      "                        - \"('both', n)\" = selection + incoming and outgoing\r\n",
      "                          neighbors within distance n\r\n",
      "  -fm filter_mode       filter mode deciding how to use the selection\r\n",
      "                        - \"include\" = include selected Atoms to output\r\n",
      "                        - \"exclude\" = exclude selected Atoms from output\r\n",
      "  -gua                  graph is unannotated, no properties are added\r\n",
      "  -gud                  graph is undirected, no arrows are drawn\r\n",
      "  -nl node_label        text shown below node\r\n",
      "  -nc node_color\r\n",
      "  -no node_opacity\r\n",
      "  -ns node_size\r\n",
      "  -nsh node_shape\r\n",
      "  -nbc node_border_color\r\n",
      "  -nbs node_border_size\r\n",
      "  -nlc node_label_color\r\n",
      "  -nls node_label_size\r\n",
      "  -nh node_hover        text shown when hovering with mouse over a node\r\n",
      "  -ncl node_click       text shown in div below plot when clicking on a node\r\n",
      "  -ni node_image        image drawn inside node, URL or data URL\r\n",
      "  -np node_properties   other annotations for a node given as key/val dict\r\n",
      "  -el edge_label        text shown in midpoint of edge\r\n",
      "  -ec edge_color\r\n",
      "  -eo edge_opacity\r\n",
      "  -es edge_size\r\n",
      "  -elc edge_label_color\r\n",
      "  -els edge_label_size\r\n",
      "  -eh edge_hover        text shown when hovering with mouse over an edge\r\n",
      "  -ecl edge_click       text shown in div below plot when clicking on an edge\r\n",
      "  --kwargs [KWARGS [KWARGS ...]]\r\n",
      "                        optional keyword arguments forwarded to plot function\r\n"
     ]
    }
   ],
   "source": [
    "!mevis -h"
   ]
  },
  {
   "cell_type": "markdown",
   "id": "5d1f7634",
   "metadata": {},
   "source": [
    "## Use it minimalistically\n",
    "\n",
    "- `-i`: An **input file** (.scm) to load an AtomSpace from.\n",
    "- `-o`: An optional **output file**.\n",
    "\n",
    "Following three cases are possible."
   ]
  },
  {
   "cell_type": "markdown",
   "id": "98b91821",
   "metadata": {},
   "source": [
    "1. No output file: Creates a graph visualization and **displays it** in the default webbrowser."
   ]
  },
  {
   "cell_type": "code",
   "execution_count": 2,
   "id": "5e9bce8b",
   "metadata": {
    "execution": {
     "iopub.execute_input": "2021-12-09T22:44:33.713029Z",
     "iopub.status.busy": "2021-12-09T22:44:33.710379Z",
     "iopub.status.idle": "2021-12-09T22:44:35.426618Z",
     "shell.execute_reply": "2021-12-09T22:44:35.426101Z"
    }
   },
   "outputs": [],
   "source": [
    "!mevis -i moses.scm"
   ]
  },
  {
   "cell_type": "markdown",
   "id": "82cc2b14",
   "metadata": {},
   "source": [
    "2. Output file ending with `.html`: Creates a graph visualization and stores it to a **HTML file**."
   ]
  },
  {
   "cell_type": "code",
   "execution_count": 3,
   "id": "96c1e0a0",
   "metadata": {
    "execution": {
     "iopub.execute_input": "2021-12-09T22:44:35.432474Z",
     "iopub.status.busy": "2021-12-09T22:44:35.431484Z",
     "iopub.status.idle": "2021-12-09T22:44:35.935682Z",
     "shell.execute_reply": "2021-12-09T22:44:35.934752Z"
    }
   },
   "outputs": [
    {
     "name": "stdout",
     "output_type": "stream",
     "text": [
      "argparse.ArgumentTypeError: The provided output_filepath \"moses.html\" already exists. You can use --force to overwrite it.\r\n"
     ]
    }
   ],
   "source": [
    "!mevis -i moses.scm -o moses.html"
   ]
  },
  {
   "cell_type": "markdown",
   "id": "236471e4",
   "metadata": {},
   "source": [
    "3. Output file ending with `.gml`, `.gml.gz` or `.gml.bz2`: Creates a graph representation and stores it to a **GML file** that can be **compressed with gzip or bzip2** to considerably reduce size."
   ]
  },
  {
   "cell_type": "code",
   "execution_count": 4,
   "id": "86811fad",
   "metadata": {
    "execution": {
     "iopub.execute_input": "2021-12-09T22:44:35.943000Z",
     "iopub.status.busy": "2021-12-09T22:44:35.942438Z",
     "iopub.status.idle": "2021-12-09T22:44:37.643981Z",
     "shell.execute_reply": "2021-12-09T22:44:37.643296Z"
    }
   },
   "outputs": [],
   "source": [
    "!mevis -i moses.scm -o moses.gml\n",
    "!mevis -i moses.scm -o moses.gml.gz\n",
    "!mevis -i moses.scm -o moses.gml.bz2"
   ]
  },
  {
   "cell_type": "markdown",
   "id": "c74b2b2d",
   "metadata": {},
   "source": [
    "## Show status messages and overwrite existing files\n",
    "\n",
    "- `--verbose`: If provided, messages are printed about individual steps and their intermediate results.\n",
    "- `--force`: If provided, output files are overwritten if they already exist."
   ]
  },
  {
   "cell_type": "code",
   "execution_count": 5,
   "id": "d1311ac0",
   "metadata": {
    "execution": {
     "iopub.execute_input": "2021-12-09T22:44:37.649664Z",
     "iopub.status.busy": "2021-12-09T22:44:37.647385Z",
     "iopub.status.idle": "2021-12-09T22:44:38.142801Z",
     "shell.execute_reply": "2021-12-09T22:44:38.141314Z"
    }
   },
   "outputs": [
    {
     "name": "stdout",
     "output_type": "stream",
     "text": [
      "Importing an Atomspace from file \"moses.scm\".\r\n"
     ]
    },
    {
     "name": "stdout",
     "output_type": "stream",
     "text": [
      "Done. It contains 16 Atoms.\r\n",
      "\r\n",
      "Converting the AtomSpace to a graph\r\n",
      "Done. It contains 16 vertices and 21 edges.\r\n",
      "\r\n",
      "Storing a visualization as HTML file to \"moses.html\". \r\n"
     ]
    },
    {
     "name": "stdout",
     "output_type": "stream",
     "text": [
      "Done. It has a file size of 646834 bytes.\r\n"
     ]
    }
   ],
   "source": [
    "!mevis -i moses.scm -o moses.html --force --verbose"
   ]
  },
  {
   "cell_type": "markdown",
   "id": "442a4d02",
   "metadata": {},
   "source": [
    "## Choose another backend\n",
    "\n",
    "- `-b`: If provided, the chosen backend is used to create the visualization. For available options, please look at the help text."
   ]
  },
  {
   "cell_type": "code",
   "execution_count": 6,
   "id": "8b423356",
   "metadata": {
    "execution": {
     "iopub.execute_input": "2021-12-09T22:44:38.161586Z",
     "iopub.status.busy": "2021-12-09T22:44:38.155732Z",
     "iopub.status.idle": "2021-12-09T22:44:39.854921Z",
     "shell.execute_reply": "2021-12-09T22:44:39.853273Z"
    }
   },
   "outputs": [],
   "source": [
    "!mevis -i moses.scm -o moses_d3.html -b d3\n",
    "!mevis -i moses.scm -o moses_three.html -b three\n",
    "!mevis -i moses.scm -o moses_vis.html -b vis"
   ]
  },
  {
   "cell_type": "markdown",
   "id": "1b7e3a08",
   "metadata": {},
   "source": [
    "## Calculate a layout\n",
    "\n",
    "- `-l`: If provided, the chosen method is used for calculating x and y coordinates for nodes. For available options, please look at the help text."
   ]
  },
  {
   "cell_type": "code",
   "execution_count": 7,
   "id": "7c370ea6",
   "metadata": {
    "execution": {
     "iopub.execute_input": "2021-12-09T22:44:39.877142Z",
     "iopub.status.busy": "2021-12-09T22:44:39.874027Z",
     "iopub.status.idle": "2021-12-09T22:44:40.493013Z",
     "shell.execute_reply": "2021-12-09T22:44:40.491571Z"
    }
   },
   "outputs": [
    {
     "name": "stdout",
     "output_type": "stream",
     "text": [
      "Importing an Atomspace from file \"moses.scm\".\r\n"
     ]
    },
    {
     "name": "stdout",
     "output_type": "stream",
     "text": [
      "Done. It contains 16 Atoms.\r\n",
      "\r\n",
      "Converting the AtomSpace to a graph\r\n",
      "Done. It contains 16 vertices and 21 edges.\r\n",
      "\r\n",
      "Calculating a layout with \"dot\".\r\n"
     ]
    },
    {
     "name": "stdout",
     "output_type": "stream",
     "text": [
      "Done.\r\n",
      "\r\n"
     ]
    },
    {
     "name": "stdout",
     "output_type": "stream",
     "text": [
      "Storing a visualization as HTML file to \"moses_layout1.html\". \r\n",
      "Done. It has a file size of 647318 bytes.\r\n"
     ]
    }
   ],
   "source": [
    "!mevis -i moses.scm -o moses_layout1.html -l dot --verbose"
   ]
  },
  {
   "cell_type": "code",
   "execution_count": 8,
   "id": "8c1bb629",
   "metadata": {
    "execution": {
     "iopub.execute_input": "2021-12-09T22:44:40.506117Z",
     "iopub.status.busy": "2021-12-09T22:44:40.504543Z",
     "iopub.status.idle": "2021-12-09T22:44:43.017772Z",
     "shell.execute_reply": "2021-12-09T22:44:43.016176Z"
    }
   },
   "outputs": [],
   "source": [
    "!mevis -i moses.scm -o moses_layout2.html -l neato\n",
    "!mevis -i moses.scm -o moses_layout3.html -l twopi\n",
    "!mevis -i moses.scm -o moses_layout4.html -l bipartite\n",
    "!mevis -i moses.scm -o moses_layout5.html -l shell"
   ]
  },
  {
   "cell_type": "markdown",
   "id": "d8a9f7a5",
   "metadata": {},
   "source": [
    "## Filter the AtomSpace\n",
    "\n",
    "- `-t`: Filter target which selects Atoms. There are three options on the command line:\n",
    "  - Name that is compared against Atom name and type name.\n",
    "  - List of multiple names\n",
    "  - Lambda function that gets an Atom as input and must return True or False to select or deselect it.\n",
    "- `-c`: Filter context which can expand the selection.\n",
    "- `-m`: Filter mode which decides whether the selection is included or excluded from the result"
   ]
  },
  {
   "cell_type": "markdown",
   "id": "8df97a29",
   "metadata": {},
   "source": [
    "Some possible targets"
   ]
  },
  {
   "cell_type": "code",
   "execution_count": 9,
   "id": "023a41f7",
   "metadata": {
    "execution": {
     "iopub.execute_input": "2021-12-09T22:44:43.035851Z",
     "iopub.status.busy": "2021-12-09T22:44:43.031035Z",
     "iopub.status.idle": "2021-12-09T22:44:44.582968Z",
     "shell.execute_reply": "2021-12-09T22:44:44.581515Z"
    }
   },
   "outputs": [
    {
     "name": "stdout",
     "output_type": "stream",
     "text": [
      "Importing an Atomspace from file \"moses.scm\".\r\n"
     ]
    },
    {
     "name": "stdout",
     "output_type": "stream",
     "text": [
      "Done. It contains 16 Atoms.\r\n",
      "\r\n",
      "Filtering the AtomSpace\r\n",
      "Done. It contains 5 remaining Atoms.\r\n",
      "\r\n",
      "Converting the AtomSpace to a graph\r\n",
      "Done. It contains 5 vertices and 0 edges.\r\n",
      "\r\n",
      "Storing a visualization as HTML file to \"moses_filtered1.html\". \r\n",
      "Done. It has a file size of 642835 bytes.\r\n"
     ]
    }
   ],
   "source": [
    "!mevis -i moses.scm -o moses_filtered1.html -ft PredicateNode --verbose\n",
    "!mevis -i moses.scm -o moses_filtered2.html -ft \"['AndLink', 'OrLink', 'NotLink']\"\n",
    "!mevis -i moses.scm -o moses_filtered3.html -ft \"lambda atom: atom.is_link()\""
   ]
  },
  {
   "cell_type": "markdown",
   "id": "6a5820f3",
   "metadata": {},
   "source": [
    "Some possible contexts"
   ]
  },
  {
   "cell_type": "code",
   "execution_count": 10,
   "id": "88fa9875",
   "metadata": {
    "execution": {
     "iopub.execute_input": "2021-12-09T22:44:44.600427Z",
     "iopub.status.busy": "2021-12-09T22:44:44.598964Z",
     "iopub.status.idle": "2021-12-09T22:44:46.189741Z",
     "shell.execute_reply": "2021-12-09T22:44:46.190846Z"
    }
   },
   "outputs": [],
   "source": [
    "!mevis -i moses.scm -o moses_filtered4.html -ft PredicateNode -fc both\n",
    "!mevis -i moses.scm -o moses_filtered5.html -ft PredicateNode -fc \"('in', 2)\"\n",
    "!mevis -i moses.scm -o moses_filtered6.html -ft OrLink -fc \"out-tree\""
   ]
  },
  {
   "cell_type": "markdown",
   "id": "ea535c73",
   "metadata": {},
   "source": [
    "Two possible modes"
   ]
  },
  {
   "cell_type": "code",
   "execution_count": 11,
   "id": "4cae9be7",
   "metadata": {
    "execution": {
     "iopub.execute_input": "2021-12-09T22:44:46.201398Z",
     "iopub.status.busy": "2021-12-09T22:44:46.199211Z",
     "iopub.status.idle": "2021-12-09T22:44:47.213191Z",
     "shell.execute_reply": "2021-12-09T22:44:47.211863Z"
    }
   },
   "outputs": [],
   "source": [
    "!mevis -i moses.scm -o moses_filtered7.html -ft PredicateNode -fc both -fm include\n",
    "!mevis -i moses.scm -o moses_filtered8.html -ft PredicateNode -fc both -fm exclude"
   ]
  },
  {
   "cell_type": "markdown",
   "id": "739aebad",
   "metadata": {},
   "source": [
    "## Annotate the graph to modify visual elements"
   ]
  },
  {
   "cell_type": "code",
   "execution_count": 12,
   "id": "f3c8fd0e",
   "metadata": {
    "execution": {
     "iopub.execute_input": "2021-12-09T22:44:47.229022Z",
     "iopub.status.busy": "2021-12-09T22:44:47.224396Z",
     "iopub.status.idle": "2021-12-09T22:44:47.773627Z",
     "shell.execute_reply": "2021-12-09T22:44:47.774940Z"
    }
   },
   "outputs": [],
   "source": [
    "# Create an unannotated graph\n",
    "!mevis -i moses.scm -o moses_unannotated.html -gua"
   ]
  },
  {
   "cell_type": "code",
   "execution_count": 13,
   "id": "f7923344",
   "metadata": {
    "execution": {
     "iopub.execute_input": "2021-12-09T22:44:47.787692Z",
     "iopub.status.busy": "2021-12-09T22:44:47.785880Z",
     "iopub.status.idle": "2021-12-09T22:44:48.356188Z",
     "shell.execute_reply": "2021-12-09T22:44:48.354811Z"
    }
   },
   "outputs": [],
   "source": [
    "# Create an undirected graph and set its node color, node size, edge color, edge size with constants\n",
    "!mevis -i moses.scm -o moses_annotated1.html -gud -nc blue -ns 20 -ec blue -es 4"
   ]
  },
  {
   "cell_type": "code",
   "execution_count": 14,
   "id": "f527725a",
   "metadata": {
    "execution": {
     "iopub.execute_input": "2021-12-09T22:44:48.370354Z",
     "iopub.status.busy": "2021-12-09T22:44:48.369290Z",
     "iopub.status.idle": "2021-12-09T22:44:48.888138Z",
     "shell.execute_reply": "2021-12-09T22:44:48.889427Z"
    }
   },
   "outputs": [],
   "source": [
    "# Set node color, node size, edge color, edge size with lambda functions\n",
    "!mevis -i moses.scm -o moses_annotated2.html \\\n",
    "    -nc \"lambda atom: '#33339a' if atom.is_link() else 'green'\" \\\n",
    "    -ec \"lambda atom1, atom2: '#33339a' if atom2.is_link() else 'green'\" \\\n",
    "    -ns \"lambda atom: 12 if atom.is_node() else 18\" \\\n",
    "    -es \"lambda atom1, atom2: 1 if atom2.is_node() else 3\""
   ]
  },
  {
   "cell_type": "code",
   "execution_count": 15,
   "id": "cd23c9e0",
   "metadata": {
    "execution": {
     "iopub.execute_input": "2021-12-09T22:44:48.924040Z",
     "iopub.status.busy": "2021-12-09T22:44:48.923277Z",
     "iopub.status.idle": "2021-12-09T22:44:49.465034Z",
     "shell.execute_reply": "2021-12-09T22:44:49.465642Z"
    }
   },
   "outputs": [],
   "source": [
    "# Adjust all possible annotations (see advanced.ipynb for the same example in Python instead of Bash)\n",
    "!mevis -i moses.scm -o moses_annotated3.html -f \\\n",
    "    -b d3 \\\n",
    "    -gud \\\n",
    "    -nl \"lambda atom: atom.name if atom.is_node() else atom.type_name.replace('Link', '')\" \\\n",
    "    -nc \"lambda atom: 'red' if atom.is_node() \\\n",
    "         else 'blue' if atom.type_name == 'AndLink' \\\n",
    "         else 'green' if atom.type_name == 'OrLink' \\\n",
    "         else 'orange'\" \\\n",
    "    -no 0.9 \\\n",
    "    -ns \"lambda atom: 20 if atom.type_name in ['AndLink', 'OrLink'] else 12\" \\\n",
    "    -nsh \"lambda atom: 'rectangle' if atom.type_name == 'AndLink' \\\n",
    "          else 'hexagon' if atom.type_name == 'OrLink' \\\n",
    "          else 'circle'\" \\\n",
    "    -nbc white \\\n",
    "    -nbs 2.0 \\\n",
    "    -nlc \"lambda atom: 'red' if atom.is_node() \\\n",
    "          else 'blue' if atom.type_name == 'AndLink' \\\n",
    "          else 'green' if atom.type_name == 'OrLink' \\\n",
    "          else 'orange'\" \\\n",
    "    -nls 12.0 \\\n",
    "    -nh \"lambda atom: 'A {} with Atomese code:\\n{}'.format(atom.type_name, atom.short_string())\" \\\n",
    "    -ncl \"lambda atom: atom.short_string()\" \\\n",
    "    -np \"lambda atom: dict(x=-300) if atom.is_node() else dict(x=-300+200*len(atom.out))\"\\\n",
    "    -el \"lambda atom1, atom2: '{}{}'.format(atom1.type_name[0], atom2.type_name[0])\" \\\n",
    "    -ec \"lambda atom1, atom2: 'lightgray' if atom2.is_node() \\\n",
    "         else 'red' if atom1.is_node() \\\n",
    "         else 'blue' if atom1.type_name == 'AndLink' \\\n",
    "         else 'green' if atom1.type_name == 'OrLink' \\\n",
    "         else 'orange'\" \\\n",
    "    -eo 0.5 \\\n",
    "    -es \"lambda atom1, atom2: 5 if atom2.is_node() else 2.5\" \\\n",
    "    -elc \"lambda atom1, atom2: 'red' if atom1.is_node() \\\n",
    "          else 'blue' if atom1.type_name == 'AndLink' \\\n",
    "          else 'green' if atom1.type_name == 'OrLink' \\\n",
    "          else 'orange'\" \\\n",
    "    -els 8 \\\n",
    "    -eh \"lambda atom1, atom2: '{} to {}'.format(atom1.type_name, atom2.type_name)\" \\\n",
    "    -ecl \"lambda atom1, atom2: 'Edge connects {} with {}'.format(atom1.type_name, atom2.type_name)\" \\\n",
    "    --kwargs edge_curvature=0.2 show_edge_label=True many_body_force_strength=-1000"
   ]
  }
 ],
 "metadata": {
  "kernelspec": {
   "display_name": "Python 3 (ipykernel)",
   "language": "python",
   "name": "python3"
  },
  "language_info": {
   "codemirror_mode": {
    "name": "ipython",
    "version": 3
   },
   "file_extension": ".py",
   "mimetype": "text/x-python",
   "name": "python",
   "nbconvert_exporter": "python",
   "pygments_lexer": "ipython3",
   "version": "3.8.12"
  }
 },
 "nbformat": 4,
 "nbformat_minor": 5
}
